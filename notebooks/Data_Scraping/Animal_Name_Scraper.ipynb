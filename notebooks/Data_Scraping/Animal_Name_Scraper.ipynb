{
 "cells": [
  {
   "cell_type": "code",
   "execution_count": 1,
   "metadata": {
    "scrolled": false
   },
   "outputs": [],
   "source": [
    "# pip install selenium"
   ]
  },
  {
   "cell_type": "code",
   "execution_count": 2,
   "metadata": {},
   "outputs": [],
   "source": [
    "# Dependencies\n",
    "from splinter import Browser\n",
    "from bs4 import BeautifulSoup\n",
    "import requests\n",
    "import pandas as pd"
   ]
  },
  {
   "cell_type": "code",
   "execution_count": 3,
   "metadata": {
    "scrolled": true
   },
   "outputs": [],
   "source": [
    "# Use Chrome to scrape the following url\n",
    "executable_path = {'executable_path': '../chromedriver.exe'}\n",
    "browser = Browser('chrome', **executable_path, headless=False)"
   ]
  },
  {
   "cell_type": "code",
   "execution_count": 4,
   "metadata": {},
   "outputs": [],
   "source": [
    "# Url for species directory in www.worldwildlife.org\n",
    "url= 'https://www.worldwildlife.org/species/directory'\n",
    "\n",
    "# Navigate to url\n",
    "browser.visit(url)"
   ]
  },
  {
   "cell_type": "code",
   "execution_count": 5,
   "metadata": {},
   "outputs": [
    {
     "name": "stdout",
     "output_type": "stream",
     "text": [
      "Scraping Complete\n",
      "Scraping Complete\n"
     ]
    },
    {
     "data": {
      "text/plain": [
       "100"
      ]
     },
     "execution_count": 5,
     "metadata": {},
     "output_type": "execute_result"
    }
   ],
   "source": [
    "# List to store common and scientific names for each row of table\n",
    "cols = []\n",
    "\n",
    "# Loop through two pages\n",
    "for x in range(2):\n",
    "    # Parse HTML with BeautifulSoup\n",
    "    soup = BeautifulSoup(browser.html, 'html.parser')\n",
    "    \n",
    "    # Find the table\n",
    "    table = soup.find('table', class_='lead')\n",
    "    \n",
    "    # Retrieve all rows from the table\n",
    "    rows = table.tbody.find_all('tr')\n",
    "    \n",
    "    # Loop through each row to scrape column data of interest and append to \"cols\" list\n",
    "    for row in rows:\n",
    "        col_queries = row.find_all('td')\n",
    "        col = [col_queries[i].text.strip() for i in range(2)]\n",
    "        cols.append(col)\n",
    "    \n",
    "    try:\n",
    "        # Navigate to the second page by \"click\" the \"2\" button on website\n",
    "        browser.click_link_by_partial_text('2')\n",
    "    \n",
    "    except:\n",
    "        print('Scraping Complete')\n",
    "        \n",
    "# Check the length of \"cols\"        \n",
    "len(cols)"
   ]
  },
  {
   "cell_type": "code",
   "execution_count": 6,
   "metadata": {},
   "outputs": [
    {
     "data": {
      "text/html": [
       "<div>\n",
       "<style scoped>\n",
       "    .dataframe tbody tr th:only-of-type {\n",
       "        vertical-align: middle;\n",
       "    }\n",
       "\n",
       "    .dataframe tbody tr th {\n",
       "        vertical-align: top;\n",
       "    }\n",
       "\n",
       "    .dataframe thead th {\n",
       "        text-align: right;\n",
       "    }\n",
       "</style>\n",
       "<table border=\"1\" class=\"dataframe\">\n",
       "  <thead>\n",
       "    <tr style=\"text-align: right;\">\n",
       "      <th></th>\n",
       "      <th>Common_Name</th>\n",
       "      <th>Sci_Name</th>\n",
       "    </tr>\n",
       "  </thead>\n",
       "  <tbody>\n",
       "    <tr>\n",
       "      <th>0</th>\n",
       "      <td>African Elephant</td>\n",
       "      <td>Loxodonta africana</td>\n",
       "    </tr>\n",
       "    <tr>\n",
       "      <th>1</th>\n",
       "      <td>African forest elephant</td>\n",
       "      <td></td>\n",
       "    </tr>\n",
       "    <tr>\n",
       "      <th>2</th>\n",
       "      <td>African savanna elephant</td>\n",
       "      <td>Loxodonta africana africana</td>\n",
       "    </tr>\n",
       "    <tr>\n",
       "      <th>3</th>\n",
       "      <td>African Wild Dog</td>\n",
       "      <td>Lycaon pictus</td>\n",
       "    </tr>\n",
       "    <tr>\n",
       "      <th>4</th>\n",
       "      <td>Albacore Tuna</td>\n",
       "      <td>Thunnus alalunga</td>\n",
       "    </tr>\n",
       "  </tbody>\n",
       "</table>\n",
       "</div>"
      ],
      "text/plain": [
       "                Common_Name                     Sci_Name\n",
       "0          African Elephant           Loxodonta africana\n",
       "1   African forest elephant                             \n",
       "2  African savanna elephant  Loxodonta africana africana\n",
       "3          African Wild Dog                Lycaon pictus\n",
       "4             Albacore Tuna             Thunnus alalunga"
      ]
     },
     "execution_count": 6,
     "metadata": {},
     "output_type": "execute_result"
    }
   ],
   "source": [
    "# Setup a Pandas DataFrame to store column data from \"cols\"\n",
    "name_df = pd.DataFrame(columns=['Common_Name', 'Sci_Name'])\n",
    "\n",
    "name_df['Common_Name'] = [cols[i][0] for i in range(len(cols))]\n",
    "name_df['Sci_Name'] = [cols[i][1] for i in range(len(cols))]\n",
    "\n",
    "# Preview \"name_df\"\n",
    "name_df.head()"
   ]
  },
  {
   "cell_type": "code",
   "execution_count": 7,
   "metadata": {},
   "outputs": [],
   "source": [
    "# Close the browser\n",
    "browser.quit()"
   ]
  },
  {
   "cell_type": "code",
   "execution_count": 8,
   "metadata": {
    "scrolled": true
   },
   "outputs": [],
   "source": [
    "# # Read animal species data\n",
    "# animal_df = pd.read_csv(\"../../data/animal_list_original.csv\", encoding=\"UTF-8\")\n",
    "\n",
    "# # Preview \"animal_df\"\n",
    "# animal_df.head()"
   ]
  },
  {
   "cell_type": "code",
   "execution_count": 9,
   "metadata": {
    "scrolled": true
   },
   "outputs": [],
   "source": [
    "# # Delete \"Full_url\" column from \"animal_df\"\n",
    "# del animal_df['Full_url']\n",
    "\n",
    "# # Preview \"animal_df\"\n",
    "# animal_df.head()"
   ]
  },
  {
   "cell_type": "code",
   "execution_count": 10,
   "metadata": {},
   "outputs": [],
   "source": [
    "# # Merge \"animal_df\" with \"name_df\" on \"Common_Name\" column and save results as \"animal_name_df\"\n",
    "# animal_name_df = animal_df.merge(name_df, on='Common_Name', how='left')\n",
    "\n",
    "# # Check length of \"animal_name_df\"\n",
    "# len(animal_name_df)"
   ]
  },
  {
   "cell_type": "code",
   "execution_count": 11,
   "metadata": {},
   "outputs": [],
   "source": [
    "# Make changes in \"Sci_Name\" column wherever are needed\n",
    "# animal_name_df['Sci_Name'][3] = 'Inia geoffrensis'\n",
    "# animal_name_df['Sci_Name'][4] = 'Panthera pardus'\n",
    "# animal_name_df['Sci_Name'][6] = 'Canis lupus'\n",
    "# animal_name_df['Sci_Name'][7] = 'Elephas maximus'\n",
    "# animal_name_df['Sci_Name'][22] = 'Gorilla beringei'\n",
    "# animal_name_df['Sci_Name'][24] = 'Spheniscus mendiculus'\n",
    "# animal_name_df['Sci_Name'][25] = 'Platanista gangetica'\n",
    "# animal_name_df['Sci_Name'][47] = 'Bison bison'\n",
    "# animal_name_df['Sci_Name'][48] = 'Dendrobates leucomelas'\n",
    "# animal_name_df['Sci_Name'][50] = 'Antilocapra americana'\n",
    "# animal_name_df['Sci_Name'][67] = 'Neophocaena asiaeorientalis'\n",
    "\n",
    "# View \"animal_name_df\"\n",
    "# animal_name_df"
   ]
  },
  {
   "cell_type": "code",
   "execution_count": 14,
   "metadata": {
    "scrolled": true
   },
   "outputs": [],
   "source": [
    "# Save df as csv file\n",
    "name_df.to_csv(\"../../data/animal_names.csv\", index=False, header=True)"
   ]
  },
  {
   "cell_type": "code",
   "execution_count": null,
   "metadata": {},
   "outputs": [],
   "source": []
  }
 ],
 "metadata": {
  "kernelspec": {
   "display_name": "Python 3 (ipykernel)",
   "language": "python",
   "name": "python3"
  },
  "language_info": {
   "codemirror_mode": {
    "name": "ipython",
    "version": 3
   },
   "file_extension": ".py",
   "mimetype": "text/x-python",
   "name": "python",
   "nbconvert_exporter": "python",
   "pygments_lexer": "ipython3",
   "version": "3.9.7"
  }
 },
 "nbformat": 4,
 "nbformat_minor": 2
}
